{
 "cells": [
  {
   "cell_type": "code",
   "execution_count": null,
   "metadata": {},
   "outputs": [],
   "source": [
    "import pickle\n",
    "import seaborn as sns\n",
    "import networkx as nx\n",
    "import collections \n",
    "import community\n",
    "import matplotlib.pyplot as plt\n",
    "%matplotlib inline\n",
    "import pandas as pd\n",
    "import numpy"
   ]
  },
  {
   "cell_type": "markdown",
   "metadata": {},
   "source": [
    "# Construction du Graphe"
   ]
  },
  {
   "cell_type": "code",
   "execution_count": null,
   "metadata": {},
   "outputs": [],
   "source": [
    "#Lecture du fichier des liens\n",
    "df_edges = pd.read_csv(\"/home/pb19121/mydata/edgesVirgule.txt\",sep =',',header = None)\n",
    "df_edges.columns = ['FROM', 'TO']"
   ]
  },
  {
   "cell_type": "code",
   "execution_count": 3,
   "metadata": {},
   "outputs": [
    {
     "name": "stdout",
     "output_type": "stream",
     "text": [
      "<class 'pandas.core.frame.DataFrame'>\n",
      "RangeIndex: 14067887 entries, 0 to 14067886\n",
      "Data columns (total 2 columns):\n",
      "FROM    int64\n",
      "TO      int64\n",
      "dtypes: int64(2)\n",
      "memory usage: 214.7 MB\n"
     ]
    }
   ],
   "source": [
    "df_edges.info()"
   ]
  },
  {
   "cell_type": "markdown",
   "metadata": {},
   "source": [
    "###### vérification de l'exhaustivité des noeuds"
   ]
  },
  {
   "cell_type": "code",
   "execution_count": 4,
   "metadata": {},
   "outputs": [],
   "source": [
    "#Lecture du fichier des noeuds\n",
    "df_nodes = pd.read_csv(\"/home/pb19121/mydata/nodes.csv\",header = None)\n",
    "df_nodes.columns = ['NODE']"
   ]
  },
  {
   "cell_type": "code",
   "execution_count": 5,
   "metadata": {},
   "outputs": [
    {
     "name": "stdout",
     "output_type": "stream",
     "text": [
      "<class 'pandas.core.frame.DataFrame'>\n",
      "RangeIndex: 100199 entries, 0 to 100198\n",
      "Data columns (total 1 columns):\n",
      "NODE    100199 non-null int64\n",
      "dtypes: int64(1)\n",
      "memory usage: 782.9 KB\n"
     ]
    }
   ],
   "source": [
    "df_nodes.info()"
   ]
  },
  {
   "cell_type": "code",
   "execution_count": null,
   "metadata": {},
   "outputs": [],
   "source": [
    "pd.DataFrame(df_nodes.NODE.unique()).count()"
   ]
  },
  {
   "cell_type": "code",
   "execution_count": null,
   "metadata": {},
   "outputs": [],
   "source": [
    "df_FROM =pd.DataFrame(df_edges.FROM.unique())\n",
    "df_FROM.columns = ['NODE']\n",
    "df_FROM.info()"
   ]
  },
  {
   "cell_type": "code",
   "execution_count": null,
   "metadata": {},
   "outputs": [],
   "source": [
    "df_TO =pd.DataFrame(df_edges.TO.unique())\n",
    "df_TO.columns = ['NODE']\n",
    "df_TO.info()"
   ]
  },
  {
   "cell_type": "code",
   "execution_count": null,
   "metadata": {},
   "outputs": [],
   "source": [
    "frames = [df_FROM, df_TO, df_nodes]"
   ]
  },
  {
   "cell_type": "code",
   "execution_count": null,
   "metadata": {},
   "outputs": [],
   "source": [
    "df_union_nodes =pd.concat(frames)"
   ]
  },
  {
   "cell_type": "code",
   "execution_count": null,
   "metadata": {},
   "outputs": [],
   "source": [
    "pd.DataFrame(df_union_nodes.NODE.unique()).count()"
   ]
  },
  {
   "cell_type": "markdown",
   "metadata": {},
   "source": [
    "> Tous les noeuds ne figuraient pas dans le fichiers nodes"
   ]
  },
  {
   "cell_type": "markdown",
   "metadata": {},
   "source": [
    "##### Suppression des arretes dont les noeuds sont absents du fichiers nodes.csv"
   ]
  },
  {
   "cell_type": "code",
   "execution_count": null,
   "metadata": {},
   "outputs": [],
   "source": [
    "liste = df_nodes.NODE"
   ]
  },
  {
   "cell_type": "code",
   "execution_count": null,
   "metadata": {},
   "outputs": [],
   "source": [
    "#df_edges_isnode = df_edges[((df_edges['FROM'].isin(df_nodes.NODE)) or (df_edges['TO'].isin(df_nodes.NODE)))]\n",
    "df_edges_isnode = df_edges[(df_edges['FROM'].isin(liste) )& (df_edges['TO'].isin(liste))]"
   ]
  },
  {
   "cell_type": "code",
   "execution_count": null,
   "metadata": {},
   "outputs": [],
   "source": [
    "df_edges_isnode.info()"
   ]
  },
  {
   "cell_type": "code",
   "execution_count": null,
   "metadata": {},
   "outputs": [],
   "source": [
    "DG = nx.DiGraph()"
   ]
  },
  {
   "cell_type": "code",
   "execution_count": null,
   "metadata": {},
   "outputs": [],
   "source": [
    "for  item, row in df_edges_isnode.iterrows():\n",
    "    DG.add_edge(row['FROM'],row['TO'], weight=1)    "
   ]
  },
  {
   "cell_type": "code",
   "execution_count": null,
   "metadata": {},
   "outputs": [],
   "source": [
    "#_SAUVEGARDE DU GRAPHE DANS UN FICHIER\n",
    "nx.write_edgelist(DG, \"/home/pb19121/mydata/data.edgelist\")"
   ]
  },
  {
   "cell_type": "code",
   "execution_count": 6,
   "metadata": {},
   "outputs": [],
   "source": [
    "#_LECTURE DU GRAPHE DEPUIS UN FICHIER\n",
    "DG = nx.read_edgelist(\"/home/pb19121/mydata/data.edgelist\",create_using=nx.DiGraph())"
   ]
  },
  {
   "cell_type": "code",
   "execution_count": 9,
   "metadata": {},
   "outputs": [],
   "source": [
    "DG = nx.freeze(DG)"
   ]
  },
  {
   "cell_type": "code",
   "execution_count": 10,
   "metadata": {},
   "outputs": [],
   "source": [
    "G = DG.to_undirected()"
   ]
  },
  {
   "cell_type": "code",
   "execution_count": 11,
   "metadata": {},
   "outputs": [],
   "source": [
    "G = nx.freeze(G)"
   ]
  },
  {
   "cell_type": "code",
   "execution_count": null,
   "metadata": {},
   "outputs": [],
   "source": [
    "#_POUR PLUS TARD\n",
    "import json\n",
    "from networkx.readwrite import json_graph\n",
    "node_link_data=json_graph.node_link_data(DG)\n",
    "#s_node_link_data=json.dumps(data)\n",
    "adjacency_data = json_graph.adjacency_data(DG)\n",
    "#s_adjacency_data=json.dumps(data_adj)\n",
    "with open('/home/pb19121/mydata/adjacency_data.json', 'w') as outfile: \n",
    "    json.dump(adjacency_data, outfile)\n",
    "with open('/home/pb19121/mydata/node_link_data.json', 'w') as outfile:  \n",
    "    json.dump(node_link_data, outfile)"
   ]
  },
  {
   "cell_type": "markdown",
   "metadata": {},
   "source": [
    "# Analyse topologique"
   ]
  },
  {
   "cell_type": "markdown",
   "metadata": {},
   "source": [
    "##### - Informations générales"
   ]
  },
  {
   "cell_type": "code",
   "execution_count": 7,
   "metadata": {},
   "outputs": [
    {
     "name": "stdout",
     "output_type": "stream",
     "text": [
      "Name: \n",
      "Type: DiGraph\n",
      "Number of nodes: 100199\n",
      "Number of edges: 981920\n",
      "Average in degree:   9.7997\n",
      "Average out degree:   9.7997\n"
     ]
    }
   ],
   "source": [
    "print(nx.info(DG))"
   ]
  },
  {
   "cell_type": "code",
   "execution_count": 12,
   "metadata": {},
   "outputs": [
    {
     "name": "stdout",
     "output_type": "stream",
     "text": [
      "Name: \n",
      "Type: Graph\n",
      "Number of nodes: 100199\n",
      "Number of edges: 981920\n",
      "Average degree:  19.5994\n"
     ]
    }
   ],
   "source": [
    "print(nx.info(G))"
   ]
  },
  {
   "cell_type": "markdown",
   "metadata": {},
   "source": [
    "##### - Densité"
   ]
  },
  {
   "cell_type": "code",
   "execution_count": 13,
   "metadata": {},
   "outputs": [
    {
     "name": "stdout",
     "output_type": "stream",
     "text": [
      "densité de DG: 9.780333539378456e-05\n",
      "densité de G: 0.00019560667078756912\n"
     ]
    }
   ],
   "source": [
    "print(\"densité de DG: %s\" % nx.density(DG))\n",
    "\n",
    "print(\"densité de G: %s\" % nx.density(G))"
   ]
  },
  {
   "cell_type": "markdown",
   "metadata": {},
   "source": [
    "> **_Commentaires_**"
   ]
  },
  {
   "cell_type": "markdown",
   "metadata": {},
   "source": [
    "##### - Noeud"
   ]
  },
  {
   "cell_type": "code",
   "execution_count": null,
   "metadata": {},
   "outputs": [],
   "source": [
    "#print (\"degree (undirected) %s\" % G.degree())   #ensemble des sommets\n",
    "att_deg = G.degree()\n",
    "\n",
    "type(deg)"
   ]
  },
  {
   "cell_type": "code",
   "execution_count": null,
   "metadata": {},
   "outputs": [],
   "source": [
    "nx.set_node_attributes(G, 'degres', att_deg)"
   ]
  },
  {
   "cell_type": "code",
   "execution_count": null,
   "metadata": {},
   "outputs": [],
   "source": [
    "#print (\"betweenness centrality %s\" % nx.betweenness_centrality(G))\n",
    "betweenness = nx.betweenness_centrality(G)\n",
    "#nx.set_node_attributes(G, 'betweenness_centrality', betweenness)"
   ]
  },
  {
   "cell_type": "code",
   "execution_count": null,
   "metadata": {},
   "outputs": [],
   "source": [
    "#print(\"eccentricity: %s\" % nx.eccentricity(G))\n",
    "eccentricity =   nx.eccentricity(G)\n",
    "#nx.set_node_attributes(G, 'eccentricity', eccentricity)"
   ]
  },
  {
   "cell_type": "code",
   "execution_count": null,
   "metadata": {},
   "outputs": [],
   "source": [
    "#DG.nodes.data()"
   ]
  },
  {
   "cell_type": "markdown",
   "metadata": {},
   "source": [
    "##### - Degrés "
   ]
  },
  {
   "cell_type": "code",
   "execution_count": null,
   "metadata": {},
   "outputs": [],
   "source": [
    "degree_sequence = sorted([d for n, d in DG.degree()], reverse=True)  # degree sequence\n",
    "# print \"Degree sequence\", degree_sequence\n",
    "degreeCount = collections.Counter(degree_sequence)\n",
    "deg, cnt = zip(*degreeCount.items())"
   ]
  },
  {
   "cell_type": "code",
   "execution_count": null,
   "metadata": {},
   "outputs": [],
   "source": [
    "\n",
    "plt.loglog(degree_sequence)\n"
   ]
  },
  {
   "cell_type": "code",
   "execution_count": null,
   "metadata": {},
   "outputs": [],
   "source": [
    "\n",
    "cle, valeur = zip(*degreeCount.items())\n"
   ]
  },
  {
   "cell_type": "code",
   "execution_count": null,
   "metadata": {},
   "outputs": [],
   "source": [
    "len(valeur)"
   ]
  },
  {
   "cell_type": "code",
   "execution_count": null,
   "metadata": {},
   "outputs": [],
   "source": [
    "d ={'cle' : pd.Series(cle),'val' : pd.Series(valeur)}\n",
    "df =pd.DataFrame(d)"
   ]
  },
  {
   "cell_type": "code",
   "execution_count": null,
   "metadata": {},
   "outputs": [],
   "source": [
    "df.describe()"
   ]
  },
  {
   "cell_type": "code",
   "execution_count": null,
   "metadata": {},
   "outputs": [],
   "source": [
    "g=sns.barplot(x=\"cle\", y=\"val\", data=df)\n",
    "\n",
    "\n",
    "#sns.despine(offset=10, trim=True)"
   ]
  },
  {
   "cell_type": "code",
   "execution_count": null,
   "metadata": {},
   "outputs": [],
   "source": [
    "g=sns.factorplot(x=\"cle\",y=\"val\", data=df,  size=3, aspect=5)\n",
    "g.set_xticklabels(step=11, label=\"titre\")\n",
    "g.set_xticklabels(rotation=90)"
   ]
  },
  {
   "cell_type": "code",
   "execution_count": null,
   "metadata": {},
   "outputs": [],
   "source": [
    "#print (\"degree (normalized) %s\" % nx.degree_centrality(G))\n",
    "degree_normalized =  nx.degree_centrality(G)"
   ]
  },
  {
   "cell_type": "code",
   "execution_count": null,
   "metadata": {},
   "outputs": [],
   "source": [
    "len(degree_normalized)"
   ]
  },
  {
   "cell_type": "code",
   "execution_count": null,
   "metadata": {},
   "outputs": [],
   "source": [
    "#nx.set_node_attributes(G, 'degree_normalized', degree_normalized)"
   ]
  },
  {
   "cell_type": "code",
   "execution_count": null,
   "metadata": {},
   "outputs": [],
   "source": [
    "d ={'deg' : pd.Series(deg),'cnt' : pd.Series(cnt)}\n",
    "df =pd.DataFrame(d)"
   ]
  },
  {
   "cell_type": "code",
   "execution_count": null,
   "metadata": {},
   "outputs": [],
   "source": [
    "max(degree_sequence)"
   ]
  },
  {
   "cell_type": "code",
   "execution_count": null,
   "metadata": {},
   "outputs": [],
   "source": [
    "sequence = (d for n, d in G.degree())"
   ]
  },
  {
   "cell_type": "code",
   "execution_count": null,
   "metadata": {},
   "outputs": [],
   "source": [
    "nx.is_graphical(sequence,method=\"hh\")"
   ]
  },
  {
   "cell_type": "code",
   "execution_count": null,
   "metadata": {},
   "outputs": [],
   "source": [
    "nx.is_graphical(sequence,method=\"eg\")"
   ]
  },
  {
   "cell_type": "markdown",
   "metadata": {},
   "source": [
    "##### -  Connexité"
   ]
  },
  {
   "cell_type": "code",
   "execution_count": null,
   "metadata": {},
   "outputs": [],
   "source": [
    "number_connected_components = nx.number_connected_components(G)\n",
    "\n",
    "number_connected_components"
   ]
  },
  {
   "cell_type": "code",
   "execution_count": null,
   "metadata": {
    "scrolled": true
   },
   "outputs": [],
   "source": [
    "DG.number_of_selfloops()"
   ]
  },
  {
   "cell_type": "code",
   "execution_count": null,
   "metadata": {},
   "outputs": [],
   "source": [
    "giant = max(nx.connected_component_subgraphs(G), key=len)\n",
    "type(giant)"
   ]
  },
  {
   "cell_type": "code",
   "execution_count": null,
   "metadata": {},
   "outputs": [],
   "source": [
    "is_strongly_connected_DG = nx.is_strongly_connected(DG)\n",
    "is_strongly_connected_DG"
   ]
  },
  {
   "cell_type": "code",
   "execution_count": null,
   "metadata": {},
   "outputs": [],
   "source": [
    "is_weakly_connected_DG = nx.is_weakly_connected(DG)\n",
    "is_weakly_connected_DG"
   ]
  },
  {
   "cell_type": "code",
   "execution_count": null,
   "metadata": {},
   "outputs": [],
   "source": [
    "print(nx.info(giant))"
   ]
  },
  {
   "cell_type": "code",
   "execution_count": null,
   "metadata": {},
   "outputs": [],
   "source": [
    "centres = nx.center(G)"
   ]
  },
  {
   "cell_type": "code",
   "execution_count": null,
   "metadata": {},
   "outputs": [],
   "source": [
    "type(centres)"
   ]
  },
  {
   "cell_type": "code",
   "execution_count": null,
   "metadata": {},
   "outputs": [],
   "source": [
    "len(centres)"
   ]
  },
  {
   "cell_type": "code",
   "execution_count": null,
   "metadata": {},
   "outputs": [],
   "source": [
    "print(\"centre : %s\" % nx.center(G))"
   ]
  },
  {
   "cell_type": "code",
   "execution_count": null,
   "metadata": {},
   "outputs": [],
   "source": [
    "#print(\"péripherie : %s\" % nx.periphery(G))\n",
    "peripherie =  nx.periphery(G)"
   ]
  },
  {
   "cell_type": "code",
   "execution_count": null,
   "metadata": {},
   "outputs": [],
   "source": [
    "type(peripherie)"
   ]
  },
  {
   "cell_type": "markdown",
   "metadata": {},
   "source": [
    "##### -  Cliques"
   ]
  },
  {
   "cell_type": "code",
   "execution_count": null,
   "metadata": {},
   "outputs": [],
   "source": [
    "#recherche des cliques\n",
    "cl = list(nx.find_cliques(G))\n",
    "#print (\"cliques %s\" % cl)\n",
    "\n",
    "len(cl)"
   ]
  },
  {
   "cell_type": "markdown",
   "metadata": {},
   "source": [
    "##### -  Condensation"
   ]
  },
  {
   "cell_type": "code",
   "execution_count": null,
   "metadata": {},
   "outputs": [],
   "source": [
    "valeur_condensation = nx.condensation(DG)"
   ]
  },
  {
   "cell_type": "code",
   "execution_count": null,
   "metadata": {},
   "outputs": [],
   "source": [
    "print(nx.info(valeur_condensation))"
   ]
  },
  {
   "cell_type": "markdown",
   "metadata": {},
   "source": [
    "##### -  Plus courts chemins"
   ]
  },
  {
   "cell_type": "code",
   "execution_count": null,
   "metadata": {},
   "outputs": [],
   "source": [
    "#plus courts chemins\n",
    "pathlengths=[]\n",
    "\n",
    "print(\"source vertex {target:length, }\")\n",
    "for v in G.nodes():\n",
    "    spl=nx.single_source_shortest_path_length(G,v)\n",
    "    #print('%s %s' % (v,spl))\n",
    "    for p in spl.values():\n",
    "        pathlengths.append(p)\n",
    "#print('')\n",
    "print(\"moyenne des plus court chemins %s\" % (sum(pathlengths)/len(pathlengths)))\n",
    "\n",
    "#distribution des plus courts chemins\n",
    "dist={}\n",
    "for p in pathlengths:\n",
    "    if p in dist:\n",
    "        dist[p]+=1\n",
    "    else:\n",
    "        dist[p]=1\n",
    "\n",
    "#dist"
   ]
  },
  {
   "cell_type": "markdown",
   "metadata": {},
   "source": [
    "> **_Commentaires_**"
   ]
  },
  {
   "cell_type": "markdown",
   "metadata": {},
   "source": [
    "# Clustering "
   ]
  },
  {
   "cell_type": "markdown",
   "metadata": {},
   "source": [
    "# Recherche de communauté de Louvain"
   ]
  },
  {
   "cell_type": "code",
   "execution_count": null,
   "metadata": {},
   "outputs": [],
   "source": [
    "# l'algorithme de Louvain cherche les communautes\n",
    "part = community.best_partition(G)\n",
    "values = [part.get(node) for node in G.nodes()]"
   ]
  },
  {
   "cell_type": "code",
   "execution_count": null,
   "metadata": {},
   "outputs": [],
   "source": [
    "len(part)"
   ]
  },
  {
   "cell_type": "code",
   "execution_count": null,
   "metadata": {},
   "outputs": [],
   "source": [
    "# valeur de la modularité\n",
    "mod = community.modularity(part,G)\n",
    "print(\"modularity: %0.5f\"%mod)"
   ]
  },
  {
   "cell_type": "code",
   "execution_count": null,
   "metadata": {},
   "outputs": [],
   "source": [
    "pd.DataFrame(values).to_csv('/home/pb19121/mydata/values_part_louvain.txt', sep = ';',index = True, header= True)\n",
    "\n",
    "sns.distplot(values)"
   ]
  },
  {
   "cell_type": "code",
   "execution_count": null,
   "metadata": {},
   "outputs": [],
   "source": [
    "# networkx propose une visualisation (reposant sur une disposition \"spring\")\n",
    "# des noeuds, avec des couleurs correspondants aux groupes obtenus\n",
    "plt.figure(figsize=(20,15))\n",
    "nx.draw_spring(G, cmap = plt.get_cmap('jet'), node_color = values, node_size=10, with_labels=True)\n",
    "plt.show()"
   ]
  },
  {
   "cell_type": "markdown",
   "metadata": {},
   "source": [
    "# Analyse spectrale"
   ]
  },
  {
   "cell_type": "code",
   "execution_count": null,
   "metadata": {},
   "outputs": [],
   "source": [
    "L = nx.normalized_laplacian_matrix(G)"
   ]
  },
  {
   "cell_type": "code",
   "execution_count": null,
   "metadata": {},
   "outputs": [],
   "source": [
    "M = nx.to_scipy_sparse_matrix(G)"
   ]
  },
  {
   "cell_type": "code",
   "execution_count": null,
   "metadata": {},
   "outputs": [],
   "source": [
    "I = nx.incidence_matrix(DG)"
   ]
  },
  {
   "cell_type": "code",
   "execution_count": null,
   "metadata": {},
   "outputs": [],
   "source": [
    "print(I)"
   ]
  },
  {
   "cell_type": "code",
   "execution_count": null,
   "metadata": {},
   "outputs": [],
   "source": [
    "A = nx.adjacency_matrix(DG)"
   ]
  },
  {
   "cell_type": "code",
   "execution_count": null,
   "metadata": {},
   "outputs": [],
   "source": []
  },
  {
   "cell_type": "code",
   "execution_count": null,
   "metadata": {},
   "outputs": [],
   "source": [
    "e = numpy.linalg.eigvals(L.A)"
   ]
  },
  {
   "cell_type": "code",
   "execution_count": null,
   "metadata": {},
   "outputs": [],
   "source": [
    "print(\"Largest eigenvalue:\", max(e))\n",
    "print(\"Smallest eigenvalue:\", min(e))"
   ]
  },
  {
   "cell_type": "code",
   "execution_count": null,
   "metadata": {},
   "outputs": [],
   "source": [
    "plt.hist(e,bins=100) # histogram with 100 bins\n",
    "plt.xlim(0,2)  # eigenvalues between 0 and 2\n",
    "plt.show()"
   ]
  },
  {
   "cell_type": "markdown",
   "metadata": {},
   "source": [
    "# Visualisation"
   ]
  },
  {
   "cell_type": "code",
   "execution_count": null,
   "metadata": {},
   "outputs": [],
   "source": [
    "#visualisation\n",
    "pos=nx.spring_layout(DG)"
   ]
  },
  {
   "cell_type": "code",
   "execution_count": null,
   "metadata": {},
   "outputs": [],
   "source": [
    "nx.draw(G, pos, with_labels=False)\n",
    "plt.show()"
   ]
  },
  {
   "cell_type": "code",
   "execution_count": null,
   "metadata": {},
   "outputs": [],
   "source": [
    "print(M.todense())"
   ]
  },
  {
   "cell_type": "markdown",
   "metadata": {},
   "source": [
    "# Divers"
   ]
  },
  {
   "cell_type": "markdown",
   "metadata": {},
   "source": [
    "partition dendrogramme"
   ]
  },
  {
   "cell_type": "code",
   "execution_count": null,
   "metadata": {},
   "outputs": [],
   "source": [
    "dendrogram = community.generate_dendrogram(G)"
   ]
  },
  {
   "cell_type": "code",
   "execution_count": null,
   "metadata": {},
   "outputs": [],
   "source": [
    "len(community.partition_at_level(dendrogram, 2))"
   ]
  },
  {
   "cell_type": "code",
   "execution_count": null,
   "metadata": {},
   "outputs": [],
   "source": [
    "for level in range(0, 2) :\n",
    "    print(\"partition au niveau \", level, \"est \", community.partition_at_level(dendrogram, level))  # NOQA"
   ]
  },
  {
   "cell_type": "markdown",
   "metadata": {},
   "source": [
    "Riche club"
   ]
  },
  {
   "cell_type": "code",
   "execution_count": null,
   "metadata": {},
   "outputs": [],
   "source": [
    "Gtest = nx.Graph([(5, 1), (5, 2), (1, 2), (1, 3), (1, 4), (4, 5)])\n",
    "rc = nx.rich_club_coefficient(Gtest, normalized=False)"
   ]
  },
  {
   "cell_type": "code",
   "execution_count": null,
   "metadata": {},
   "outputs": [],
   "source": [
    "rc = nx.rich_club_coefficient(G, normalized=False)"
   ]
  },
  {
   "cell_type": "code",
   "execution_count": null,
   "metadata": {},
   "outputs": [],
   "source": [
    "len(rc)"
   ]
  },
  {
   "cell_type": "code",
   "execution_count": null,
   "metadata": {},
   "outputs": [],
   "source": [
    "tG = nx.MultiDiGraph()\n",
    "tG.add_edge(0,1,weight=2)\n",
    "tG.add_edge(1,0)\n",
    "tG.add_edge(2,2,weight=3)\n",
    "tG.add_edge(2,2)\n",
    "tS = nx.to_scipy_sparse_matrix(tG, nodelist=[0,1,2])\n",
    "print(tS.todense())"
   ]
  },
  {
   "cell_type": "code",
   "execution_count": null,
   "metadata": {},
   "outputs": [],
   "source": [
    "nodeliste = G.nodes().to"
   ]
  },
  {
   "cell_type": "code",
   "execution_count": null,
   "metadata": {},
   "outputs": [],
   "source": [
    "nodeliste2 = [100000, 100016, 100018, 100587, 102358, 102445, 103095, 103808, 104275, 106630, 107018, 108442, 108460, 108463, 108479, 108837, 108871, 109519, 110820, 111476, 100001, 100007, 100011, 100062, 100075, 100086, 100096, 106358, 106378, 108506, 100002, 100004, 100005, 100012, 100017, 100019, 100025, 100054, 100065, 100066, 100074, 100080, 100082, 100091, 100095, 100099, 100102, 100552, 101464, 106103, 106333, 106373, 106759, 106770, 107140, 110767, 110794, 111488, 116056, 100006, 100008, 100048, 100053, 100089, 112172, 100015, 100037, 100045, 100094, 102425, 104912, 109759, 109762, 109765, 109766, 109775, 113623, 100034, 100077, 100078, 106317, 106352, 106383, 108456, 108477, 108505, 108510, 109764, 109947, 110762, 101383, 103947, 103956, 107315, 107680, 108559, 119459, 119498, 119502, 119503, 100009, 100030, 100033, 100040, 100050, 100067, 100069, 100070, 100083, 100085, 100097, 100105, 100107, 100543, 102200, 104017, 106332, 106342, 108438, 108441, 108443, 108457, 108458, 108462, 108475, 108487, 108490, 108491, 108492, 108494, 108513, 108522, 108525, 108528, 108538, 108541, 108542, 1000, 1001, 1003, 100010, 100027, 100098, 102533, 103885, 1030, 100061, 100063, 100766, 102391, 102455, 102963, 104637, 108903, 110749, 1169, 100101, 104225, 104233, 104244, 104266, 108330, 108807, 111449, 100013, 100021, 100022, 100039, 100041, 100042, 100046, 100047, 100049, 100588, 100657, 101546, 101910, 102291, 105500, 106228, 107305, 107311, 107321, 107332, 107340, 107349, 107358, 109905, 111866, 119464, 119478, 119481, 119494, 119505, 119506, 119514, 119518, 119523, 100029, 100058, 100064, 100071, 100073, 100079, 100104, 108444, 108484, 108500, 108509, 108546, 110826, 110839, 132245, 100023, 100035, 100057, 100068, 100088, 101941, 103713, 104221, 104222, 105134, 106683, 107147, 108320, 108455, 108465, 108467, 108468, 108470, 108471, 108473, 108474, 108480, 108481, 108485, 108518, 108524, 108545, 110795, 110814, 111474, 120461, 102049, 113022, 120465, 146263, 101722, 101778, 102481, 106318, 106362, 106476, 106640, 107595, 108266, 108453, 108459, 108508, 108877, 108883, 110663, 110669, 100535, 100888, 102584, 104022, 105133, 105166, 105914, 105926, 106344, 106379, 106521, 106753, 106757, 106763, 106767, 106771, 106772, 106780, 106781, 106796, 106845, 107497, 108440, 109749, 109750, 109782, 109931, 109952, 110043, 110061, 110619, 111452, 111473, 113325, 120281, 120282, 120289, 120293, 120480, 10002, 10041, 10045, 10051, 10057, 10066, 10074, 100793, 102616, 104087, 107829, 108406, 110172, 21111, 113618, 120291, 11367, 103701, 103758, 104037, 106083, 107708, 119489, 119511, 119521, 106331, 106364, 106381, 109326, 111536, 120535, 37659, 37690, 37699, 37700, 37709, 37730, 37747, 37762, 37794, 37802, 37816, 37827, 37841, 37842, 100538, 104630, 105143, 107952, 108523, 58864, 100026, 100542]"
   ]
  },
  {
   "cell_type": "code",
   "execution_count": null,
   "metadata": {},
   "outputs": [],
   "source": [
    "adjacencyMatrix = nx.to_numpy_matrix(A,nodelist=nodeliste)"
   ]
  },
  {
   "cell_type": "code",
   "execution_count": null,
   "metadata": {},
   "outputs": [],
   "source": [
    "import scipy as sp\n",
    "G_test = nx.Graph([(1,3),(1,2),(4,2)])\n",
    "A_test = nx.adjacency_matrix(G_test)\n",
    "print(A_test)\n",
    "\n",
    "A_test.setdiag(A_test.diagonal()*2)\n",
    "print(A_test.todense())\n"
   ]
  },
  {
   "cell_type": "code",
   "execution_count": null,
   "metadata": {},
   "outputs": [],
   "source": [
    "T = nx.to_numpy_recarray(DG, dtype=[('weight', int)])\n",
    "print(T.weight)"
   ]
  },
  {
   "cell_type": "code",
   "execution_count": null,
   "metadata": {},
   "outputs": [],
   "source": [
    "type(x)"
   ]
  },
  {
   "cell_type": "code",
   "execution_count": null,
   "metadata": {},
   "outputs": [],
   "source": [
    "matrice = numpy.array([[1, 1, 1], [1, 3, 1], [1, 1, 1]])\n",
    "im1 = plt.matshow(A.todense())\n",
    "plt.colorbar(im1)\n",
    "plt.show"
   ]
  },
  {
   "cell_type": "code",
   "execution_count": null,
   "metadata": {},
   "outputs": [],
   "source": [
    "sns.heatmap(A.todense())\n"
   ]
  },
  {
   "cell_type": "code",
   "execution_count": null,
   "metadata": {},
   "outputs": [],
   "source": [
    "print(Ase())"
   ]
  },
  {
   "cell_type": "code",
   "execution_count": null,
   "metadata": {},
   "outputs": [],
   "source": [
    "print(A.transpose())"
   ]
  },
  {
   "cell_type": "code",
   "execution_count": null,
   "metadata": {},
   "outputs": [],
   "source": [
    "print(M.todense())"
   ]
  }
 ],
 "metadata": {
  "kernelspec": {
   "display_name": "Python 3",
   "language": "python",
   "name": "python3"
  },
  "language_info": {
   "codemirror_mode": {
    "name": "ipython",
    "version": 3
   },
   "file_extension": ".py",
   "mimetype": "text/x-python",
   "name": "python",
   "nbconvert_exporter": "python",
   "pygments_lexer": "ipython3",
   "version": "3.6.5"
  }
 },
 "nbformat": 4,
 "nbformat_minor": 2
}
