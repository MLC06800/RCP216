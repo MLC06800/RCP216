{
 "cells": [
  {
   "cell_type": "code",
   "execution_count": null,
   "metadata": {
    "collapsed": true
   },
   "outputs": [],
   "source": [
    "import networkx as nx\n",
    "import community\n",
    "import matplotlib.pyplot as plt\n",
    "%matplotlib inline"
   ]
  },
  {
   "cell_type": "code",
   "execution_count": null,
   "metadata": {
    "collapsed": true
   },
   "outputs": [],
   "source": [
    "nx.test()"
   ]
  },
  {
   "cell_type": "code",
   "execution_count": null,
   "metadata": {
    "collapsed": true
   },
   "outputs": [],
   "source": [
    "G=nx.read_edgelist('liens.txt', create_using=nx.MultiDiGraph())"
   ]
  },
  {
   "cell_type": "code",
   "execution_count": null,
   "metadata": {},
   "outputs": [],
   "source": [
    "print(nx.info(G))"
   ]
  },
  {
   "cell_type": "code",
   "execution_count": null,
   "metadata": {},
   "outputs": [],
   "source": [
    "print (\"number of nodes : %s\" % G.number_of_nodes())"
   ]
  },
  {
   "cell_type": "code",
   "execution_count": null,
   "metadata": {},
   "outputs": [],
   "source": [
    "print(G.edges()) # consultation des nœuds du graphe g"
   ]
  },
  {
   "cell_type": "code",
   "execution_count": null,
   "metadata": {},
   "outputs": [],
   "source": [
    "# on peut travailler sur un graphe aléatoire\n",
    "#G = nx.random_graphs.powerlaw_cluster_graph(3500, 1, .4)\n",
    "\n",
    "# l'algorithme de Louvain cherche les communautes\n",
    "part = community.best_partition(G)\n",
    "values = [part.get(node) for node in G.nodes()]\n",
    "# networkx propose une visualisation (reposant sur une disposition \"spring\")\n",
    "# des noeuds, avec des couleurs correspondants aux groupes obtenus\n",
    "plt.figure(figsize=(20,15))\n",
    "nx.draw_spring(G, cmap = plt.get_cmap('jet'), node_color = values, node_size=120, with_labels=True)\n",
    "plt.show()\n",
    "\n",
    "# valeur de la modularité\n",
    "mod = community.modularity(part,G)\n",
    "print(\"modularity: %0.5f\"%mod)"
   ]
  },
  {
   "cell_type": "code",
   "execution_count": null,
   "metadata": {
    "collapsed": true
   },
   "outputs": [],
   "source": []
  }
 ],
 "metadata": {
  "kernelspec": {
   "display_name": "Python 3",
   "language": "python",
   "name": "python3"
  },
  "language_info": {
   "codemirror_mode": {
    "name": "ipython",
    "version": 3
   },
   "file_extension": ".py",
   "mimetype": "text/x-python",
   "name": "python",
   "nbconvert_exporter": "python",
   "pygments_lexer": "ipython3",
   "version": "3.6.3"
  }
 },
 "nbformat": 4,
 "nbformat_minor": 2
}
