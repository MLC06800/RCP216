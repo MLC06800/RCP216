{
 "cells": [
  {
   "cell_type": "markdown",
   "metadata": {
    "kernel": "SoS"
   },
   "source": [
    "# *_FRIENDSTER - Social Network_*"
   ]
  },
  {
   "cell_type": "markdown",
   "metadata": {
    "kernel": "SoS"
   },
   "source": [
    "> Friendster est un reseau de type petit monde qui mélange cercle d'ami et contact reseau.\n",
    "> La densité de connextion est très élévée il faut calculer la betweeness centralite pour retirer l'arete centrale\n",
    "\n",
    "_Alternative_\n",
    "\n",
    "> Si ordre de complexité trop eleve pour ma machine alors approximation à faire :\n",
    "> on considere le degres d'un noeud elevé comme etant un des sommets de l'arete centrale. \n",
    "> Je cherche parmis les noeuds de plus fort degres l'arete si elle n'existe pas alors on cherche dans le lot ayant un peu moins de degres et ainsi de suite jusqu'au plus petit degrès."
   ]
  },
  {
   "cell_type": "code",
   "execution_count": 1,
   "metadata": {
    "kernel": "apache_toree_pyspark"
   },
   "outputs": [],
   "source": [
    "from pyspark import SparkContext, SparkConf\n",
    "from pyspark.sql import SQLContext\n",
    "from pyspark.sql.types import *\n",
    "from pyspark.sql import functions as F\n",
    "from pyspark.sql import Row\n",
    "import re"
   ]
  },
  {
   "cell_type": "code",
   "execution_count": 82,
   "metadata": {
    "kernel": "apache_toree_pyspark"
   },
   "outputs": [
    {
     "data": {
      "text/plain": [
       "[('spark.dynamicAllocation.minExecutors', '1'), ('spark.shuffle.service.enabled', 'true'), ('spark.jars', 'file:/usr/local/share/jupyter/kernels/apache_toree_pyspark/lib/toree-assembly-0.2.0.dev1-incubating-SNAPSHOT.jar'), ('spark.app.id', 'local-1531471674611'), ('spark.executor.id', 'driver'), ('spark.repl.class.uri', 'spark://192.168.254.21:44187/classes'), ('spark.dynamicAllocation.maxExecutors', '5'), ('spark.repl.class.outputDir', '/tmp/spark-fc263e40-7870-4d15-837a-4f8953a0c0c6/repl-79443874-7220-4ce4-a4e7-c8a62cc61092'), ('spark.driver.port', '44187'), ('spark.app.name', 'Friendster-mapreduce-by-key'), ('spark.rdd.compress', 'True'), ('spark.serializer.objectStreamReset', '100'), ('spark.master', 'local[*]'), ('spark.submit.deployMode', 'client'), ('spark.dynamicAllocation.enabled', 'true'), ('spark.driver.host', '192.168.254.21')]"
      ]
     },
     "execution_count": 82,
     "metadata": {},
     "output_type": "execute_result"
    }
   ],
   "source": [
    "sc.getConf().getAll()"
   ]
  },
  {
   "cell_type": "code",
   "execution_count": 83,
   "metadata": {
    "kernel": "apache_toree_pyspark"
   },
   "outputs": [],
   "source": [
    "conf = SparkConf().setAll([('spark.app.name', 'Friendster-mapreduce-by-key'),(\"spark.dynamicAllocation.enabled\", \"true\"),(\"spark.dynamicAllocation.minExecutors\", 1), (\"spark.dynamicAllocation.maxExecutors\", 5), (\"spark.shuffle.service.enabled\", \"true\") ])\n",
    "sc.stop()\n",
    "sc = SparkContext(conf=conf)"
   ]
  },
  {
   "cell_type": "code",
   "execution_count": 5,
   "metadata": {
    "kernel": "apache_toree_pyspark"
   },
   "outputs": [
    {
     "data": {
      "text/plain": [
       "[('spark.dynamicAllocation.minExecutors', '1'), ('spark.shuffle.service.enabled', 'true'), ('spark.jars', 'file:/usr/local/share/jupyter/kernels/apache_toree_pyspark/lib/toree-assembly-0.2.0.dev1-incubating-SNAPSHOT.jar'), ('spark.app.id', 'local-1531471674611'), ('spark.executor.id', 'driver'), ('spark.repl.class.uri', 'spark://192.168.254.21:44187/classes'), ('spark.dynamicAllocation.maxExecutors', '5'), ('spark.repl.class.outputDir', '/tmp/spark-fc263e40-7870-4d15-837a-4f8953a0c0c6/repl-79443874-7220-4ce4-a4e7-c8a62cc61092'), ('spark.driver.port', '44187'), ('spark.app.name', 'Friendster-mapreduce-by-key'), ('spark.rdd.compress', 'True'), ('spark.serializer.objectStreamReset', '100'), ('spark.master', 'local[*]'), ('spark.submit.deployMode', 'client'), ('spark.dynamicAllocation.enabled', 'true'), ('spark.driver.host', '192.168.254.21')]"
      ]
     },
     "execution_count": 5,
     "metadata": {},
     "output_type": "execute_result"
    }
   ],
   "source": [
    "sc.getConf().getAll()"
   ]
  },
  {
   "cell_type": "code",
   "execution_count": 6,
   "metadata": {
    "kernel": "apache_toree_pyspark"
   },
   "outputs": [
    {
     "data": {
      "text/plain": [
       "<SparkContext master=local[*] appName=Friendster-mapreduce-by-key>"
      ]
     },
     "execution_count": 6,
     "metadata": {},
     "output_type": "execute_result"
    }
   ],
   "source": [
    "sc"
   ]
  },
  {
   "cell_type": "code",
   "execution_count": 7,
   "metadata": {
    "kernel": "apache_toree_scala"
   },
   "outputs": [],
   "source": [
    "import org.apache.spark._\n",
    "import org.apache.spark.graphx._\n",
    "import org.apache.spark.rdd.RDD"
   ]
  },
  {
   "cell_type": "markdown",
   "metadata": {
    "kernel": "apache_toree_scala"
   },
   "source": [
    "# Création du graphe "
   ]
  },
  {
   "cell_type": "markdown",
   "metadata": {
    "kernel": "apache_toree_scala"
   },
   "source": [
    "> **Hypothèse : ** Les liens entre les utilisateurs sont des liens \n",
    "    orientés entre utilisateur influant et le suiveur\n",
    "    "
   ]
  },
  {
   "cell_type": "code",
   "execution_count": 30,
   "metadata": {
    "kernel": "apache_toree_scala"
   },
   "outputs": [],
   "source": [
    "import org.apache.spark.graphx.GraphLoader\n",
    "//#créer un fichier avec les noeuds et leur attribut (quel format ?)\n",
    "//#Chargement des utilisateurs (nodes) et transformer les lignes d'utilisateur avec id and nombre de suiveur\n",
    "val users = (sc.textFile(\"/home/pb19121/datagraphx/friendsterusers.txt\")\n",
    "  .map(line => line.split(\",\")).map( parts => (parts.head.toLong, parts.tail) ))\n",
    "\n",
    "// Parse the edge data which is already in userId -> userId format\n",
    "val followerGraph = GraphLoader.edgeListFile(sc, \"/home/pb19121/datagraphx/friendsterfollowers.txt\")\n",
    "\n",
    "//# Attach the user attributes\n",
    "val graph = followerGraph.outerJoinVertices(users) {\n",
    "  case (uid, deg, Some(attrList)) => attrList\n",
    " // # Some users may not have attributes so we set them as empty\n",
    "  case (uid, deg, None) => Array.empty[String]\n",
    "}"
   ]
  },
  {
   "cell_type": "code",
   "execution_count": 30,
   "metadata": {
    "kernel": "apache_toree_scala"
   },
   "outputs": [],
   "source": [
    "//Ajouter les attributs à partir des calculs de degres, indegree et outdegree dans le fichiers des users\n",
    "import org.apache.spark.graphx.GraphLoader\n",
    "\n",
    "val users = (sc.textFile(\"/home/pb19121/datagraphx/friendsterusers.txt\")\n",
    "  .map(line => line.split(\",\")).map( parts => (parts.head.toLong, parts.tail) ))\n",
    "\n",
    "// Parse the edge data which is already in userId -> userId format\n",
    "val edgesGraph = GraphLoader.edgeListFile(sc, \"/home/pb19121/datagraphx/friendsteredges.txt\")\n",
    "\n",
    "//# Attach the user attributes\n",
    "val graph = edgesGraph.outerJoinVertices(users) {\n",
    "  case (uid, deg, Some(attrList)) => attrList\n",
    " // # Some users may not have attributes so we set them as empty\n",
    "  case (uid, deg, None) => Array.empty[String]\n",
    "}"
   ]
  },
  {
   "cell_type": "code",
   "execution_count": 105,
   "metadata": {
    "kernel": "apache_toree_scala"
   },
   "outputs": [
    {
     "data": {
      "text/plain": [
       "org.apache.spark.graphx.impl.GraphImpl@4eea6d61"
      ]
     },
     "execution_count": 105,
     "metadata": {},
     "output_type": "execute_result"
    }
   ],
   "source": [
    "graph"
   ]
  },
  {
   "cell_type": "code",
   "execution_count": null,
   "metadata": {
    "kernel": "apache_toree_scala"
   },
   "outputs": [],
   "source": [
    "// Restrict the graph to users with usernames and names\n",
    "val subgraph = graph.subgraph(vpred = (vid, attr) => attr.size == 2)\n",
    "\n",
    "// Compute the PageRank\n",
    "val pagerankGraph = subgraph.pageRank(0.001)\n",
    "\n",
    "// Get the attributes of the top pagerank users\n",
    "val userInfoWithPageRank = subgraph.outerJoinVertices(pagerankGraph.vertices) {\n",
    "  case (uid, attrList, Some(pr)) => (pr, attrList.toList)\n",
    "  case (uid, attrList, None) => (0.0, attrList.toList)\n",
    "}"
   ]
  },
  {
   "cell_type": "code",
   "execution_count": 33,
   "metadata": {
    "collapsed": true,
    "kernel": "apache_toree_scala"
   },
   "outputs": [
    {
     "name": "stdout",
     "output_type": "stream",
     "text": [
      "(1,(8019.989012755636,List(N1, n1)))\n",
      "(2,(3473.697419631351,List(N2, n2)))\n",
      "(82,(1691.8315267036721,List(N82, n82)))\n",
      "(11,(1038.692904959271,List(N11, n11)))\n",
      "(3,(1033.6143079036847,List(N3, n3)))\n",
      "(13,(920.921867922792,List(N13, n13)))\n",
      "(4,(670.6766422815854,List(N4, n4)))\n",
      "(54,(648.4665619563988,List(N54, n54)))\n",
      "(5,(546.9728220426837,List(N5, n5)))\n",
      "(20,(540.7584562672422,List(N20, n20)))\n"
     ]
    }
   ],
   "source": [
    "println(userInfoWithPageRank.vertices.top(10)(Ordering.by(_._2._1)).mkString(\"\\n\"))"
   ]
  },
  {
   "cell_type": "code",
   "execution_count": 52,
   "metadata": {
    "kernel": "apache_toree_scala"
   },
   "outputs": [
    {
     "data": {
      "text/plain": [
       "981920"
      ]
     },
     "execution_count": 52,
     "metadata": {},
     "output_type": "execute_result"
    }
   ],
   "source": [
    "graph.numEdges"
   ]
  },
  {
   "cell_type": "markdown",
   "metadata": {
    "kernel": "apache_toree_scala"
   },
   "source": [
    "# Distribution de degrés"
   ]
  },
  {
   "cell_type": "code",
   "execution_count": 56,
   "metadata": {
    "kernel": "apache_toree_scala"
   },
   "outputs": [],
   "source": [
    "// Define a reduce operation to compute the highest degree vertex\n",
    "def max(a: (VertexId, Int), b: (VertexId, Int)): (VertexId, Int) = {\n",
    "  if (a._2 > b._2) a else b\n",
    "}\n",
    "// Compute the max degrees\n",
    "val maxInDegree: (VertexId, Int)  = graph.inDegrees.reduce(max)\n",
    "val maxOutDegree: (VertexId, Int) = graph.outDegrees.reduce(max)\n",
    "val maxDegrees: (VertexId, Int)   = graph.degrees.reduce(max)"
   ]
  },
  {
   "cell_type": "code",
   "execution_count": 71,
   "metadata": {
    "kernel": "apache_toree_scala"
   },
   "outputs": [
    {
     "name": "stdout",
     "output_type": "stream",
     "text": [
      " max indegree : "
     ]
    },
    {
     "data": {
      "text/plain": [
       "(3687,620)"
      ]
     },
     "execution_count": 71,
     "metadata": {},
     "output_type": "execute_result"
    }
   ],
   "source": [
    "print (\" max indegree : \")\n",
    "maxInDegree"
   ]
  },
  {
   "cell_type": "code",
   "execution_count": 72,
   "metadata": {
    "kernel": "apache_toree_scala"
   },
   "outputs": [
    {
     "name": "stdout",
     "output_type": "stream",
     "text": [
      " max outdegree : "
     ]
    },
    {
     "data": {
      "text/plain": [
       "(111058,165)"
      ]
     },
     "execution_count": 72,
     "metadata": {},
     "output_type": "execute_result"
    }
   ],
   "source": [
    "print (\" max outdegree : \")\n",
    "maxOutDegree"
   ]
  },
  {
   "cell_type": "code",
   "execution_count": 73,
   "metadata": {
    "kernel": "apache_toree_scala"
   },
   "outputs": [
    {
     "name": "stdout",
     "output_type": "stream",
     "text": [
      " max degree : "
     ]
    },
    {
     "data": {
      "text/plain": [
       "(3687,621)"
      ]
     },
     "execution_count": 73,
     "metadata": {},
     "output_type": "execute_result"
    }
   ],
   "source": [
    "print (\" max degree : \")\n",
    "maxDegrees"
   ]
  },
  {
   "cell_type": "code",
   "execution_count": 76,
   "metadata": {
    "kernel": "apache_toree_scala"
   },
   "outputs": [],
   "source": [
    "val degrees: VertexRDD[Int] = graph.degrees"
   ]
  },
  {
   "cell_type": "code",
   "execution_count": 113,
   "metadata": {
    "kernel": "apache_toree_scala"
   },
   "outputs": [
    {
     "name": "stdout",
     "output_type": "stream",
     "text": [
      "(108150,3)\n",
      "(129434,5)\n",
      "(91902,16)\n",
      "(68522,14)\n",
      "(23776,4)\n"
     ]
    }
   ],
   "source": [
    "degrees.take(5).foreach(println)"
   ]
  },
  {
   "cell_type": "code",
   "execution_count": 75,
   "metadata": {
    "kernel": "apache_toree_scala"
   },
   "outputs": [],
   "source": [
    "val indegrees: VertexRDD[Int] = graph.inDegrees"
   ]
  },
  {
   "cell_type": "code",
   "execution_count": 74,
   "metadata": {
    "kernel": "apache_toree_scala"
   },
   "outputs": [],
   "source": [
    "val outdegrees: VertexRDD[Int] = graph.outDegrees"
   ]
  },
  {
   "cell_type": "code",
   "execution_count": 54,
   "metadata": {
    "kernel": "apache_toree_scala"
   },
   "outputs": [
    {
     "data": {
      "text/plain": [
       "(count: 100199, mean: 69079.757972, stdev: 41109.577764, max: 151837.000000, min: 1.000000)"
      ]
     },
     "execution_count": 54,
     "metadata": {},
     "output_type": "execute_result"
    }
   ],
   "source": [
    "degrees.map(_._1).stats()"
   ]
  },
  {
   "cell_type": "code",
   "execution_count": 77,
   "metadata": {
    "kernel": "apache_toree_scala"
   },
   "outputs": [
    {
     "data": {
      "text/plain": [
       "(count: 79262, mean: 63332.714163, stdev: 39503.759873, max: 151820.000000, min: 1.000000)"
      ]
     },
     "execution_count": 77,
     "metadata": {},
     "output_type": "execute_result"
    }
   ],
   "source": [
    "indegrees.map(_._1).stats()"
   ]
  },
  {
   "cell_type": "code",
   "execution_count": 78,
   "metadata": {
    "kernel": "apache_toree_scala"
   },
   "outputs": [
    {
     "data": {
      "text/plain": [
       "(count: 100198, mean: 69080.447394, stdev: 41109.203660, max: 151837.000000, min: 2.000000)"
      ]
     },
     "execution_count": 78,
     "metadata": {},
     "output_type": "execute_result"
    }
   ],
   "source": [
    "outdegrees.map(_._1).stats()"
   ]
  },
  {
   "cell_type": "code",
   "execution_count": 55,
   "metadata": {
    "kernel": "apache_toree_scala"
   },
   "outputs": [
    {
     "data": {
      "text/plain": [
       "(count: 100199, mean: 19.599397, stdev: 24.609730, max: 621.000000, min: 1.000000)"
      ]
     },
     "execution_count": 55,
     "metadata": {},
     "output_type": "execute_result"
    }
   ],
   "source": [
    "degrees.map(_._2).stats()"
   ]
  },
  {
   "cell_type": "code",
   "execution_count": 79,
   "metadata": {
    "kernel": "apache_toree_scala"
   },
   "outputs": [
    {
     "data": {
      "text/plain": [
       "(count: 79262, mean: 12.388282, stdev: 20.920199, max: 620.000000, min: 1.000000)"
      ]
     },
     "execution_count": 79,
     "metadata": {},
     "output_type": "execute_result"
    }
   ],
   "source": [
    "indegrees.map(_._2).stats()"
   ]
  },
  {
   "cell_type": "code",
   "execution_count": 80,
   "metadata": {
    "kernel": "apache_toree_scala"
   },
   "outputs": [
    {
     "data": {
      "text/plain": [
       "(count: 100198, mean: 9.799796, stdev: 11.073388, max: 165.000000, min: 1.000000)"
      ]
     },
     "execution_count": 80,
     "metadata": {},
     "output_type": "execute_result"
    }
   ],
   "source": [
    "outdegrees.map(_._2).stats()"
   ]
  },
  {
   "cell_type": "markdown",
   "metadata": {
    "kernel": "apache_toree_scala"
   },
   "source": [
    "# La “longueur moyenne des (plus courts) chemins” : "
   ]
  },
  {
   "cell_type": "markdown",
   "metadata": {
    "kernel": "apache_toree_scala"
   },
   "source": [
    "# Coeficient de clustering : "
   ]
  },
  {
   "cell_type": "code",
   "execution_count": 39,
   "metadata": {
    "kernel": "apache_toree_scala"
   },
   "outputs": [],
   "source": [
    "val triplets = graph.triplets"
   ]
  },
  {
   "cell_type": "code",
   "execution_count": 40,
   "metadata": {
    "kernel": "apache_toree_scala"
   },
   "outputs": [
    {
     "data": {
      "text/plain": [
       "981920"
      ]
     },
     "execution_count": 40,
     "metadata": {},
     "output_type": "execute_result"
    }
   ],
   "source": [
    "triplets.count()"
   ]
  },
  {
   "cell_type": "code",
   "execution_count": 99,
   "metadata": {
    "kernel": "apache_toree_scala"
   },
   "outputs": [
    {
     "name": "stdout",
     "output_type": "stream",
     "text": [
      "((2,[Ljava.lang.String;@14465c0b),(1,[Ljava.lang.String;@4d2963b0),1)\n",
      "((3,[Ljava.lang.String;@214b735f),(1,[Ljava.lang.String;@4d2963b0),1)\n",
      "((4,[Ljava.lang.String;@3ca7f4b8),(1,[Ljava.lang.String;@4d2963b0),1)\n",
      "((4,[Ljava.lang.String;@3ca7f4b8),(2,[Ljava.lang.String;@14465c0b),1)\n",
      "((5,[Ljava.lang.String;@1aa74123),(1,[Ljava.lang.String;@4d2963b0),1)\n"
     ]
    }
   ],
   "source": [
    "triplets.take(5).foreach(println)"
   ]
  },
  {
   "cell_type": "code",
   "execution_count": 90,
   "metadata": {
    "kernel": "apache_toree_scala"
   },
   "outputs": [],
   "source": [
    "val triCounts = graph.triangleCount()"
   ]
  },
  {
   "cell_type": "code",
   "execution_count": 91,
   "metadata": {
    "kernel": "apache_toree_scala"
   },
   "outputs": [
    {
     "data": {
      "text/plain": [
       "(count: 100199, mean: 63.479735, stdev: 140.725195, max: 4142.000000, min: 0.000000)"
      ]
     },
     "execution_count": 91,
     "metadata": {},
     "output_type": "execute_result"
    }
   ],
   "source": [
    "triCounts.vertices.map(x => x._2).stats()"
   ]
  },
  {
   "cell_type": "code",
   "execution_count": 92,
   "metadata": {
    "kernel": "apache_toree_scala"
   },
   "outputs": [],
   "source": [
    "val maxTrisGraph = triCounts.degrees.mapValues(d => d * (d - 1) / 2.0)"
   ]
  },
  {
   "cell_type": "code",
   "execution_count": 93,
   "metadata": {
    "kernel": "apache_toree_scala"
   },
   "outputs": [
    {
     "data": {
      "text/plain": [
       "VertexRDDImpl[1895] at RDD at VertexRDD.scala:57"
      ]
     },
     "execution_count": 93,
     "metadata": {},
     "output_type": "execute_result"
    }
   ],
   "source": [
    "maxTrisGraph"
   ]
  },
  {
   "cell_type": "code",
   "execution_count": 94,
   "metadata": {
    "kernel": "apache_toree_scala"
   },
   "outputs": [],
   "source": [
    "val clusterCoefGraph = triCounts.vertices.innerJoin(maxTrisGraph) {\n",
    "  (vertexId, triCount, maxTris) => {\n",
    "    if (maxTris == 0) 0\n",
    "    else triCount / maxTris\n",
    "  }\n",
    "}"
   ]
  },
  {
   "cell_type": "code",
   "execution_count": 96,
   "metadata": {
    "kernel": "apache_toree_scala"
   },
   "outputs": [
    {
     "data": {
      "text/plain": [
       "0.2672521165006904"
      ]
     },
     "execution_count": 96,
     "metadata": {},
     "output_type": "execute_result"
    }
   ],
   "source": [
    "clusterCoefGraph.map(_._2).sum() / triCounts.vertices.count()"
   ]
  },
  {
   "cell_type": "markdown",
   "metadata": {
    "kernel": "apache_toree_scala"
   },
   "source": [
    "> **Notes : **\n",
    "- on obtient 26% caractéristique des réseaux de petits mondes\n",
    "- à comparer avec un graphique similaire (club de karate de zachary ou aléatoire)\n"
   ]
  },
  {
   "cell_type": "code",
   "execution_count": 106,
   "metadata": {
    "kernel": "apache_toree_scala"
   },
   "outputs": [],
   "source": [
    "val connectedComponentGraph: Graph[VertexId, Int] = graph.connectedComponents()"
   ]
  },
  {
   "cell_type": "code",
   "execution_count": 107,
   "metadata": {
    "kernel": "apache_toree_scala"
   },
   "outputs": [],
   "source": [
    "def sortedConnectedComponents(connectedComponents: Graph[VertexId, _]): Seq[(VertexId, Long)] = {\n",
    "  val componentCounts = connectedComponents.vertices.map(_._2).countByValue\n",
    "  componentCounts.toSeq.sortBy(_._2).reverse\n",
    "}"
   ]
  },
  {
   "cell_type": "code",
   "execution_count": 108,
   "metadata": {
    "kernel": "apache_toree_scala"
   },
   "outputs": [],
   "source": [
    "val componentCounts = sortedConnectedComponents( connectedComponentGraph)"
   ]
  },
  {
   "cell_type": "code",
   "execution_count": 109,
   "metadata": {
    "kernel": "apache_toree_scala"
   },
   "outputs": [
    {
     "data": {
      "text/plain": [
       "1"
      ]
     },
     "execution_count": 109,
     "metadata": {},
     "output_type": "execute_result"
    }
   ],
   "source": [
    "componentCounts.size"
   ]
  },
  {
   "cell_type": "code",
   "execution_count": 110,
   "metadata": {
    "kernel": "apache_toree_scala"
   },
   "outputs": [
    {
     "name": "stdout",
     "output_type": "stream",
     "text": [
      "(1,100199)\n"
     ]
    }
   ],
   "source": [
    "componentCounts.take(10).foreach(println)"
   ]
  },
  {
   "cell_type": "code",
   "execution_count": null,
   "metadata": {
    "kernel": "apache_toree_scala"
   },
   "outputs": [],
   "source": []
  },
  {
   "cell_type": "code",
   "execution_count": null,
   "metadata": {
    "kernel": "apache_toree_scala"
   },
   "outputs": [],
   "source": []
  },
  {
   "cell_type": "code",
   "execution_count": null,
   "metadata": {
    "kernel": "apache_toree_scala"
   },
   "outputs": [],
   "source": []
  }
 ],
 "metadata": {
  "kernelspec": {
   "display_name": "SoS",
   "language": "sos",
   "name": "sos"
  },
  "language_info": {
   "codemirror_mode": "sos",
   "file_extension": ".sos",
   "mimetype": "text/x-sos",
   "name": "sos",
   "nbconvert_exporter": "sos_notebook.converter.SoS_Exporter",
   "pygments_lexer": "sos"
  },
  "sos": {
   "kernels": [],
   "panel": {
    "displayed": false,
    "height": 0,
    "style": "side"
   },
   "version": "0.9.15.8"
  }
 },
 "nbformat": 4,
 "nbformat_minor": 2
}
