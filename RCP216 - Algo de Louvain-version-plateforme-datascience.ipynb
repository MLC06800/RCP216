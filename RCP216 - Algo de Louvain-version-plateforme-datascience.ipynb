{
 "cells": [
  {
   "cell_type": "code",
   "execution_count": 33,
   "metadata": {},
   "outputs": [],
   "source": [
    "import networkx as nx"
   ]
  },
  {
   "cell_type": "code",
   "execution_count": 34,
   "metadata": {},
   "outputs": [],
   "source": [
    "import community\n",
    "import matplotlib.pyplot as plt"
   ]
  },
  {
   "cell_type": "code",
   "execution_count": 36,
   "metadata": {},
   "outputs": [],
   "source": [
    "import pandas as pd"
   ]
  },
  {
   "cell_type": "code",
   "execution_count": 3,
   "metadata": {},
   "outputs": [
    {
     "name": "stdout",
     "output_type": "stream",
     "text": [
      "Running NetworkX tests:\n",
      "----------------------------------------------------------------------\n",
      "Ran 0 tests in 0.008s\n",
      "\n",
      "OK\n"
     ]
    }
   ],
   "source": [
    "nx.test()"
   ]
  },
  {
   "cell_type": "code",
   "execution_count": 39,
   "metadata": {},
   "outputs": [],
   "source": [
    "df_edges = pd.read_csv(\"/home/pb19121/mydata/liens.txt\", header = None)"
   ]
  },
  {
   "cell_type": "code",
   "execution_count": 40,
   "metadata": {},
   "outputs": [],
   "source": [
    "df_edges.columns = ['LIEN']"
   ]
  },
  {
   "cell_type": "code",
   "execution_count": 42,
   "metadata": {},
   "outputs": [],
   "source": [
    "lines= df_edges['LIEN']"
   ]
  },
  {
   "cell_type": "code",
   "execution_count": 44,
   "metadata": {
    "collapsed": true
   },
   "outputs": [
    {
     "data": {
      "text/plain": [
       "0           151838 317823\n",
       "1            151838 91631\n",
       "2            151838 91943\n",
       "3            151838 92060\n",
       "4            151838 92073\n",
       "5            151838 92078\n",
       "6            151838 92082\n",
       "7            151838 92101\n",
       "8            151838 92105\n",
       "9            151838 92122\n",
       "10           151838 92126\n",
       "11           151838 92133\n",
       "12           151838 92163\n",
       "13           151838 92186\n",
       "14           151838 92219\n",
       "15           151838 92223\n",
       "16           151838 92252\n",
       "17           151838 92258\n",
       "18           151838 92305\n",
       "19           151838 92307\n",
       "20           151838 92367\n",
       "21           151838 92369\n",
       "22           151838 92375\n",
       "23           151838 92377\n",
       "24           151838 92387\n",
       "25           151838 92425\n",
       "26           151838 92436\n",
       "27           151838 92438\n",
       "28           151838 92440\n",
       "29           151838 92489\n",
       "                ...      \n",
       "14067857     99999 100036\n",
       "14067858     99999 100051\n",
       "14067859     99999 100062\n",
       "14067860     99999 100074\n",
       "14067861     99999 100078\n",
       "14067862     99999 100086\n",
       "14067863     99999 100098\n",
       "14067864     99999 100101\n",
       "14067865     99999 101864\n",
       "14067866     99999 104603\n",
       "14067867     99999 256239\n",
       "14067868     99999 258520\n",
       "14067869     99999 258886\n",
       "14067870     99999 274984\n",
       "14067871     99999 279047\n",
       "14067872     99999 279048\n",
       "14067873     99999 281727\n",
       "14067874     99999 281731\n",
       "14067875     99999 281735\n",
       "14067876     99999 281753\n",
       "14067877     99999 282669\n",
       "14067878     99999 295221\n",
       "14067879     99999 296721\n",
       "14067880     99999 300427\n",
       "14067881     99999 461755\n",
       "14067882     99999 461763\n",
       "14067883     99999 462316\n",
       "14067884     99999 601255\n",
       "14067885     99999 730304\n",
       "14067886       9999 97687\n",
       "Name: LIEN, Length: 14067887, dtype: object"
      ]
     },
     "execution_count": 44,
     "metadata": {},
     "output_type": "execute_result"
    }
   ],
   "source": [
    "lines"
   ]
  },
  {
   "cell_type": "code",
   "execution_count": 45,
   "metadata": {},
   "outputs": [],
   "source": [
    "G = nx.parse_edgelist(lines, nodetype = int)"
   ]
  },
  {
   "cell_type": "code",
   "execution_count": 31,
   "metadata": {
    "collapsed": true
   },
   "outputs": [
    {
     "data": {
      "text/plain": [
       "Name: org.apache.toree.interpreter.broker.BrokerException\n",
       "Message: Traceback (most recent call last):\n",
       "  File \"/home/edd/anaconda3/lib/python3.6/site-packages/networkx/classes/multigraph.py\", line 323, in new_edge_key\n",
       "    keydict = self._adj[u][v]\n",
       "KeyError: '1600345'\n",
       "\n",
       "During handling of the above exception, another exception occurred:\n",
       "\n",
       "Traceback (most recent call last):\n",
       "  File \"/tmp/kernel-PySpark-155ad0c1-93b7-4afd-ae09-a166929b4d96/pyspark_runner.py\", line 189, in <module>\n",
       "    eval(compiled_code)\n",
       "  File \"<string>\", line 1, in <module>\n",
       "  File \"<decorator-gen-400>\", line 2, in read_edgelist\n",
       "  File \"/home/edd/anaconda3/lib/python3.6/site-packages/networkx/utils/decorators.py\", line 227, in _open_file\n",
       "    result = func_to_be_decorated(*new_args, **kwargs)\n",
       "  File \"/home/edd/anaconda3/lib/python3.6/site-packages/networkx/readwrite/edgelist.py\", line 378, in read_edgelist\n",
       "    data=data)\n",
       "  File \"/home/edd/anaconda3/lib/python3.6/site-packages/networkx/readwrite/edgelist.py\", line 304, in parse_edgelist\n",
       "    G.add_edge(u, v, **edgedata)\n",
       "  File \"/home/edd/anaconda3/lib/python3.6/site-packages/networkx/classes/multidigraph.py\", line 417, in add_edge\n",
       "    key = self.new_edge_key(u, v)\n",
       "  File \"/home/edd/anaconda3/lib/python3.6/site-packages/networkx/classes/multigraph.py\", line 323, in new_edge_key\n",
       "    keydict = self._adj[u][v]\n",
       "  File \"/home/edd/spark/spark-2.3.0-bin-hadoop2.7/python/pyspark/context.py\", line 234, in signal_handler\n",
       "    raise KeyboardInterrupt()\n",
       "KeyboardInterrupt\n",
       "\n",
       "StackTrace: org.apache.toree.interpreter.broker.BrokerState$$anonfun$markFailure$1.apply(BrokerState.scala:163)\n",
       "org.apache.toree.interpreter.broker.BrokerState$$anonfun$markFailure$1.apply(BrokerState.scala:163)\n",
       "scala.Option.foreach(Option.scala:257)\n",
       "org.apache.toree.interpreter.broker.BrokerState.markFailure(BrokerState.scala:162)\n",
       "sun.reflect.NativeMethodAccessorImpl.invoke0(Native Method)\n",
       "sun.reflect.NativeMethodAccessorImpl.invoke(NativeMethodAccessorImpl.java:62)\n",
       "sun.reflect.DelegatingMethodAccessorImpl.invoke(DelegatingMethodAccessorImpl.java:43)\n",
       "java.lang.reflect.Method.invoke(Method.java:498)\n",
       "py4j.reflection.MethodInvoker.invoke(MethodInvoker.java:244)\n",
       "py4j.reflection.ReflectionEngine.invoke(ReflectionEngine.java:357)\n",
       "py4j.Gateway.invoke(Gateway.java:282)\n",
       "py4j.commands.AbstractCommand.invokeMethod(AbstractCommand.java:132)\n",
       "py4j.commands.CallCommand.execute(CallCommand.java:79)\n",
       "py4j.GatewayConnection.run(GatewayConnection.java:214)\n",
       "java.lang.Thread.run(Thread.java:748)"
      ]
     },
     "execution_count": 31,
     "metadata": {},
     "output_type": "execute_result"
    }
   ],
   "source": [
    "# on peut travailler sur un graphe aléatoire\n",
    "#G = nx.random_graphs.powerlaw_cluster_graph(350, 2, .4)\n",
    "#lecture du fichier\n",
    "#G=nx.read_edgelist(\"/home/pb19121/mydata/liens.txt\", create_using=nx.MultiDiGraph())"
   ]
  },
  {
   "cell_type": "code",
   "execution_count": 50,
   "metadata": {},
   "outputs": [
    {
     "name": "stdout",
     "output_type": "stream",
     "text": [
      "Name: \n",
      "Type: Graph\n",
      "Number of nodes: 5689498\n",
      "Number of edges: 14067887\n",
      "Average degree:   4.9452\n"
     ]
    }
   ],
   "source": [
    "print(nx.info(G))"
   ]
  },
  {
   "cell_type": "code",
   "execution_count": 51,
   "metadata": {},
   "outputs": [],
   "source": [
    "nx.write_edgelist(G, \"/home/pb19121/mydata/test.edgelist\")"
   ]
  },
  {
   "cell_type": "code",
   "execution_count": null,
   "metadata": {},
   "outputs": [],
   "source": [
    "G = nx.read_edgelist(\"/home/pb19121/mydata/test.edgelist\")"
   ]
  },
  {
   "cell_type": "code",
   "execution_count": 50,
   "metadata": {},
   "outputs": [
    {
     "name": "stdout",
     "output_type": "stream",
     "text": [
      "Name: \n",
      "Type: Graph\n",
      "Number of nodes: 5689498\n",
      "Number of edges: 14067887\n",
      "Average degree:   4.9452\n"
     ]
    }
   ],
   "source": [
    "print(nx.info(G))"
   ]
  },
  {
   "cell_type": "code",
   "execution_count": null,
   "metadata": {},
   "outputs": [],
   "source": [
    "# l'algorithme de Louvain cherche les communautes\n",
    "part = community.best_partition(G)\n",
    "#values = [part.get(node) for node in G.nodes()]"
   ]
  },
  {
   "cell_type": "code",
   "execution_count": null,
   "metadata": {},
   "outputs": [],
   "source": [
    "# valeur de la modularité\n",
    "mod = community.modularity(part,G)\n",
    "print(\"modularity: %0.5f\"%mod)"
   ]
  },
  {
   "cell_type": "code",
   "execution_count": null,
   "metadata": {},
   "outputs": [],
   "source": []
  },
  {
   "cell_type": "code",
   "execution_count": null,
   "metadata": {},
   "outputs": [],
   "source": []
  }
 ],
 "metadata": {
  "kernelspec": {
   "display_name": "Apache Toree - PySpark",
   "language": "python",
   "name": "apache_toree_pyspark"
  },
  "language_info": {
   "file_extension": ".py",
   "name": "python",
   "pygments_lexer": "python",
   "version": "3.6.5\n"
  }
 },
 "nbformat": 4,
 "nbformat_minor": 2
}
